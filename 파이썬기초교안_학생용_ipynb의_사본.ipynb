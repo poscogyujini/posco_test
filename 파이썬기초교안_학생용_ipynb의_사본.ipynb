{
  "cells": [
    {
      "cell_type": "markdown",
      "metadata": {
        "id": "view-in-github",
        "colab_type": "text"
      },
      "source": [
        "<a href=\"https://colab.research.google.com/github/poscogyujini/posco_test/blob/main/%ED%8C%8C%EC%9D%B4%EC%8D%AC%EA%B8%B0%EC%B4%88%EA%B5%90%EC%95%88_%ED%95%99%EC%83%9D%EC%9A%A9_ipynb%EC%9D%98_%EC%82%AC%EB%B3%B8.ipynb\" target=\"_parent\"><img src=\"https://colab.research.google.com/assets/colab-badge.svg\" alt=\"Open In Colab\"/></a>"
      ]
    },
    {
      "cell_type": "markdown",
      "metadata": {
        "id": "A02qpOAWZ0uT"
      },
      "source": [
        "# 파이썬 기초 학습 - 학생용\n",
        "## 변수, 조건문, 반복문, 리스트\n",
        "\n",
        "### 학습 목표\n",
        "- 파이썬의 기본 변수 타입을 이해하고 활용할 수 있다\n",
        "- 조건문(if문)을 사용하여 프로그램의 흐름을 제어할 수 있다\n",
        "- 반복문(for, while)을 사용하여 반복 작업을 수행할 수 있다\n",
        "- 리스트 자료구조를 이해하고 다양한 메서드를 활용할 수 있다\n",
        "\n",
        "### 학습 방법\n",
        "- 빈칸에 알맞은 코드를 입력하세요\n",
        "- 각 셀을 실행하여 결과를 확인하세요\n",
        "- 궁금한 점은 언제든지 질문하세요!"
      ]
    },
    {
      "cell_type": "markdown",
      "metadata": {
        "id": "LwtARljlZ0uY"
      },
      "source": [
        "## 1. 변수 (Variables)\n",
        "\n",
        "### 개념\n",
        "변수는 데이터를 저장하는 공간입니다.\n",
        "\n",
        "### 주요 데이터 타입\n",
        "- **정수(int)**: 소수점이 없는 숫자\n",
        "- **실수(float)**: 소수점이 있는 숫자\n",
        "- **문자열(str)**: 텍스트 데이터\n",
        "- **불린(bool)**: 참/거짓 값"
      ]
    },
    {
      "cell_type": "code",
      "execution_count": null,
      "metadata": {
        "id": "ezRXF5ygZ0uZ"
      },
      "outputs": [],
      "source": [
        "# 빈칸을 채워서 변수를 만들어보세요\n",
        "name = \"taeseon\"        # 당신의 이름을 입력하세요\n",
        "age = 100              # 당신의 나이를 입력하세요\n",
        "height = ___._         # 당신의 키를 입력하세요 (예: 165.5)\n",
        "is_student = ____      # True 또는 False를 입력하세요\n",
        "\n",
        "# 변수 값 출력하기\n",
        "print(f\"이름: {____}\")\n",
        "print(f\"나이: {____}세\")\n",
        "print(f\"키: {____}cm\")\n",
        "print(f\"학생 여부: {____}\")\n",
        "\n",
        "# 변수 타입 확인하기\n",
        "print(f\"name의 타입: {type(____)}\")\n",
        "print(f\"age의 타입: {type(____)}\")"
      ]
    },
    {
      "cell_type": "markdown",
      "metadata": {
        "id": "UZyRoQQ1Z0ua"
      },
      "source": [
        "## 2. 조건문 (Conditional Statements)\n",
        "\n",
        "### 개념\n",
        "조건문은 특정 조건에 따라 프로그램의 실행을 제어합니다.\n",
        "\n",
        "### 기본 구조\n",
        "```python\n",
        "if 조건:\n",
        "    실행할 코드\n",
        "elif 다른조건:\n",
        "    실행할 코드\n",
        "else:\n",
        "    실행할 코드\n",
        "```"
      ]
    },
    {
      "cell_type": "code",
      "execution_count": null,
      "metadata": {
        "id": "-YCo8EPdZ0ua"
      },
      "outputs": [],
      "source": [
        "# 성적에 따른 등급을 판정해보세요\n",
        "score = 85  # 다른 점수로 바꿔서 테스트해보세요\n",
        "\n",
        "if score >= ___:     # 90점 이상이면\n",
        "    grade = \"A\"\n",
        "    print(f\"점수: {score}점, 등급: {grade} - 우수합니다!\")\n",
        "elif score >= ___:   # 80점 이상이면\n",
        "    grade = \"B\"\n",
        "    print(f\"점수: {score}점, 등급: {grade} - 잘했습니다!\")\n",
        "elif score >= ___:   # 70점 이상이면\n",
        "    grade = \"C\"\n",
        "    print(f\"점수: {score}점, 등급: {grade} - 보통입니다.\")\n",
        "elif score >= ___:   # 60점 이상이면\n",
        "    grade = \"D\"\n",
        "    print(f\"점수: {score}점, 등급: {grade} - 노력이 필요합니다.\")\n",
        "else:\n",
        "    grade = \"F\"\n",
        "    print(f\"점수: {score}점, 등급: {grade} - 재시험이 필요합니다.\")\n",
        "\n",
        "# 복합 조건 만들기\n",
        "age = 17\n",
        "has_license = False\n",
        "\n",
        "if age >= 18 ___ has_license:        # and 연산자를 사용하세요\n",
        "    print(\"운전 가능합니다.\")\n",
        "elif age >= 18 ___ ___ has_license:  # and not 연산자를 사용하세요\n",
        "    print(\"면허증을 취득하세요.\")\n",
        "else:\n",
        "    print(\"나이가 부족합니다.\")"
      ]
    },
    {
      "cell_type": "markdown",
      "metadata": {
        "id": "4bBL_SDQZ0ub"
      },
      "source": [
        "## 3. 반복문 (Loops)\n",
        "\n",
        "### 개념\n",
        "반복문은 특정 코드를 여러 번 실행합니다.\n",
        "\n",
        "### for문\n",
        "- 정해진 횟수만큼 반복\n",
        "- range() 함수와 함께 사용\n",
        "\n",
        "### while문\n",
        "- 조건이 참인 동안 반복"
      ]
    },
    {
      "cell_type": "code",
      "execution_count": null,
      "metadata": {
        "id": "s8toozd_Z0ub"
      },
      "outputs": [],
      "source": [
        "# for문으로 1부터 5까지 출력해보세요\n",
        "print(\"=== 1부터 5까지 출력 ===\")\n",
        "for i in range(___, ___):\n",
        "    print(f\"숫자: {i}\")\n",
        "\n",
        "# 구구단 3단 만들기\n",
        "print(\"\\n=== 구구단 3단 ===\")\n",
        "for i in range(1, ___):\n",
        "    result = ___ * i\n",
        "    print(f\"3 × {i} = {result}\")\n",
        "\n",
        "# while문으로 카운트다운 만들기\n",
        "print(\"\\n=== 카운트다운 ===\")\n",
        "count = 3\n",
        "while count > ___:\n",
        "    print(f\"카운트: {count}\")\n",
        "    count ___ 1  # count에서 1을 빼기\n",
        "print(\"시작!\")\n",
        "\n",
        "# break와 continue 사용해보기\n",
        "print(\"\\n=== 1부터 10까지 (5는 건너뛰고, 8에서 멈추기) ===\")\n",
        "for i in range(1, 11):\n",
        "    if i == 5:\n",
        "        ________  # 5는 건너뛰기\n",
        "    if i == 8:\n",
        "        _____     # 8에서 반복 종료\n",
        "    print(f\"숫자: {i}\")"
      ]
    },
    {
      "cell_type": "markdown",
      "metadata": {
        "id": "jSHPJjZpZ0ub"
      },
      "source": [
        "## 4. 리스트 (Lists)\n",
        "\n",
        "### 개념\n",
        "리스트는 여러 개의 값을 순서대로 저장하는 자료구조입니다.\n",
        "\n",
        "### 주요 특징\n",
        "- 대괄호 []로 생성\n",
        "- 인덱스는 0부터 시작\n",
        "- 요소 추가, 삭제, 수정 가능"
      ]
    },
    {
      "cell_type": "code",
      "execution_count": null,
      "metadata": {
        "id": "B8Auwhh-Z0uc"
      },
      "outputs": [],
      "source": [
        "# 리스트 만들기\n",
        "fruits = [\"사과\", \"바나나\", \"오렌지\", \"포도\", \"딸기\"]\n",
        "numbers = [10, 20, 30, 40, 50]\n",
        "\n",
        "print(\"=== 리스트 출력 ===\")\n",
        "print(f\"과일 리스트: {fruits}\")\n",
        "print(f\"숫자 리스트: {numbers}\")\n",
        "\n",
        "# 인덱스로 요소 가져오기\n",
        "print(\"\\n=== 인덱스로 요소 접근 ===\")\n",
        "print(f\"첫 번째 과일: {fruits[___]}\")\n",
        "print(f\"마지막 과일: {fruits[___]}\")\n",
        "print(f\"세 번째 숫자: {numbers[___]}\")\n",
        "\n",
        "# 슬라이싱 해보기\n",
        "print(\"\\n=== 슬라이싱 ===\")\n",
        "print(f\"처음 3개 과일: {fruits[:___]}\")\n",
        "print(f\"마지막 2개 과일: {fruits[___:]}\")\n",
        "print(f\"2번째부터 4번째까지: {fruits[___:___]}\")"
      ]
    },
    {
      "cell_type": "code",
      "execution_count": null,
      "metadata": {
        "id": "bm1OLKXjZ0uc"
      },
      "outputs": [],
      "source": [
        "# 리스트에 요소 추가하고 제거하기\n",
        "subjects = [\"국어\", \"영어\", \"수학\"]\n",
        "print(f\"초기 과목 리스트: {subjects}\")\n",
        "\n",
        "# 요소 추가하기\n",
        "subjects.______(\"과학\")  # 끝에 과학 추가\n",
        "print(f\"과학 추가 후: {subjects}\")\n",
        "\n",
        "subjects.______(1, \"사회\")  # 1번 위치에 사회 삽입\n",
        "print(f\"사회 삽입 후: {subjects}\")\n",
        "\n",
        "# 요소 제거하기\n",
        "subjects.______(\"영어\")  # 영어 제거\n",
        "print(f\"영어 제거 후: {subjects}\")\n",
        "\n",
        "removed_subject = subjects.____()  # 마지막 요소 제거\n",
        "print(f\"마지막 과목 제거: {removed_subject}\")\n",
        "print(f\"제거 후 리스트: {subjects}\")\n",
        "\n",
        "# 리스트 정보 확인하기\n",
        "print(f\"\\n리스트 길이: {____(subjects)}\")\n",
        "print(f\"국어 포함 여부: {'국어' ___ subjects}\")\n",
        "print(f\"체육 포함 여부: {'체육' ___ subjects}\")"
      ]
    },
    {
      "cell_type": "code",
      "execution_count": null,
      "metadata": {
        "id": "xazLSTFGZ0uc"
      },
      "outputs": [],
      "source": [
        "# 리스트와 반복문 함께 사용하기\n",
        "scores = [85, 92, 78, 95, 88]\n",
        "subjects = [\"국어\", \"영어\", \"수학\", \"과학\", \"사회\"]\n",
        "\n",
        "print(\"=== 성적 출력 ===\")\n",
        "for i in range(len(scores)):\n",
        "    print(f\"{subjects[i]}: {scores[i]}점\")\n",
        "\n",
        "print(\"\\n=== 등급까지 함께 출력 ===\")\n",
        "for i in range(len(subjects)):\n",
        "    subject = subjects[i]\n",
        "    score = scores[i]\n",
        "\n",
        "    # 등급 계산하기\n",
        "    if score >= ___:\n",
        "        grade = \"A\"\n",
        "    elif score >= ___:\n",
        "        grade = \"B\"\n",
        "    elif score >= ___:\n",
        "        grade = \"C\"\n",
        "    else:\n",
        "        grade = \"D\"\n",
        "\n",
        "    print(f\"{subject}: {score}점 ({grade}등급)\")\n",
        "\n",
        "# 리스트의 합계, 평균, 최대값, 최소값 구하기\n",
        "print(f\"\\n총합: {____(scores)}점\")\n",
        "print(f\"평균: {sum(scores) / ____(scores):.1f}점\")\n",
        "print(f\"최고점: {____(scores)}점\")\n",
        "print(f\"최저점: {____(scores)}점\")"
      ]
    },
    {
      "cell_type": "markdown",
      "metadata": {
        "id": "KJNvsqX7Z0ud"
      },
      "source": [
        "## 종합 실습 문제\n",
        "\n",
        "### 나만의 성적 관리 프로그램 만들기\n",
        "지금까지 배운 내용을 활용해서 성적 관리 프로그램을 완성해보세요!\n",
        "\n",
        "### 해야 할 일\n",
        "1. 학생 이름과 점수 리스트 완성하기\n",
        "2. 각 학생의 평균 점수 계산하기\n",
        "3. 등급 매기기\n",
        "4. 우수 학생 찾기"
      ]
    },
    {
      "cell_type": "code",
      "execution_count": null,
      "metadata": {
        "id": "2lQFIsCIZ0ud"
      },
      "outputs": [],
      "source": [
        "# 종합 실습: 나만의 성적 관리 프로그램\n",
        "students = [\"김철수\", \"이영희\", \"박민준\", \"최지원\", \"정수현\"]\n",
        "korean_scores = [85, 92, 78, 95, 88]\n",
        "english_scores = [88, 85, 90, 92, 87]\n",
        "math_scores = [92, 88, 85, 98, 91]\n",
        "\n",
        "print(\"=== 📊 나만의 성적 관리 프로그램 ===\")\n",
        "print(\"\\n1. 전체 학생 성적 현황\")\n",
        "print(\"-\" * 50)\n",
        "\n",
        "for i in range(len(students)):\n",
        "    name = students[i]\n",
        "    korean = korean_scores[i]\n",
        "    english = english_scores[i]\n",
        "    math = math_scores[i]\n",
        "\n",
        "    # 총점과 평균 계산하기\n",
        "    total = korean + english + ____\n",
        "    average = total / ___\n",
        "\n",
        "    # 등급 계산하기\n",
        "    if average >= ___:\n",
        "        grade = \"A\"\n",
        "    elif average >= ___:\n",
        "        grade = \"B\"\n",
        "    elif average >= ___:\n",
        "        grade = \"C\"\n",
        "    else:\n",
        "        grade = \"D\"\n",
        "\n",
        "    print(f\"{name}: 국어 {korean}, 영어 {english}, 수학 {math} | 평균: {average:.1f}점 ({grade}등급)\")\n",
        "\n",
        "print(\"\\n2. 우수 학생 찾기 (평균 90점 이상)\")\n",
        "print(\"-\" * 40)\n",
        "\n",
        "excellent_students = []\n",
        "for i in range(len(students)):\n",
        "    total = korean_scores[i] + english_scores[i] + math_scores[i]\n",
        "    average = total / 3\n",
        "\n",
        "    if average >= ___:  # 90점 이상이면\n",
        "        excellent_students.______(students[i])  # 우수 학생 리스트에 추가\n",
        "\n",
        "if excellent_students:  # 우수 학생이 있으면\n",
        "    print(f\"🌟 우수 학생: {excellent_students}\")\n",
        "else:\n",
        "    print(\"평균 90점 이상 학생이 없습니다.\")\n",
        "\n",
        "print(f\"\\n📋 전체 학생 수: {len(students)}명\")\n",
        "print(f\"🏆 우수 학생 수: {len(excellent_students)}명\")\n",
        "print(\"\\n프로그램 완료! 🎉\")"
      ]
    }
  ],
  "metadata": {
    "kernelspec": {
      "display_name": "Python 3",
      "language": "python",
      "name": "python3"
    },
    "language_info": {
      "codemirror_mode": {
        "name": "ipython",
        "version": 3
      },
      "file_extension": ".py",
      "mimetype": "text/x-python",
      "name": "python",
      "nbconvert_exporter": "python3",
      "pygments_lexer": "ipython3",
      "version": "3.8.5"
    },
    "colab": {
      "provenance": [],
      "include_colab_link": true
    }
  },
  "nbformat": 4,
  "nbformat_minor": 0
}